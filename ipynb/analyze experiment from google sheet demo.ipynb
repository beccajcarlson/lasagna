{
 "cells": [
  {
   "cell_type": "code",
   "execution_count": 9,
   "metadata": {
    "collapsed": false
   },
   "outputs": [
    {
     "name": "stdout",
     "output_type": "stream",
     "text": [
      "/Users/feldman/PycharmProjects\n"
     ]
    }
   ],
   "source": [
    "cd /Users/feldman/PycharmProjects"
   ]
  },
  {
   "cell_type": "code",
   "execution_count": null,
   "metadata": {
    "collapsed": false
   },
   "outputs": [],
   "source": [
    "# imports\n",
    "import numpy as np\n",
    "from itertools import product\n",
    "from collections import defaultdict\n",
    "from pprint import pprint as pp\n",
    "\n",
    "from lasagna.conditions_ import (load_sheet, find_comparisons,\n",
    "                                 find_comparisons_second_order,\n",
    "                                 get_named_wells,\n",
    "                                 get_named_comparisons)\n",
    "\n",
    "from matplotlib import pyplot as plt\n",
    "%matplotlib inline"
   ]
  },
  {
   "cell_type": "code",
   "execution_count": null,
   "metadata": {
    "collapsed": true
   },
   "outputs": [],
   "source": [
    "wells, conditions, cube = load_sheet('demo sheet')\n",
    "comparisons = find_comparisons(cube)\n",
    "comparisons2 = find_comparisons_second_order(cube)\n",
    "\n",
    "named_wells = get_named_wells(wells, conditions)\n",
    "\n",
    "named_comparisons = get_named_comparisons(comparisons, conditions)\n",
    "named_comparisons2 = get_named_comparisons(comparisons2, conditions)"
   ]
  },
  {
   "cell_type": "code",
   "execution_count": null,
   "metadata": {
    "collapsed": true
   },
   "outputs": [],
   "source": [
    "print 'experimental conditions:\\n'\n",
    "print (json.dumps(conditions, indent=4))\n",
    "\n",
    "print '-'*50, '\\n'\n",
    "\n",
    "print (cube>0).sum(), ' out of ', cube.size, 'combinations tested:\\n'\n",
    "pp(named_wells)\n",
    "\n",
    "print '-'*50, '\\n\\nsecond order comparisons:'\n",
    "for c in named_comparisons2:\n",
    "    print '\\n'\n",
    "    pp(c)"
   ]
  },
  {
   "cell_type": "markdown",
   "metadata": {},
   "source": [
    "### plots of second order comparisons"
   ]
  },
  {
   "cell_type": "code",
   "execution_count": null,
   "metadata": {
    "collapsed": false,
    "scrolled": false
   },
   "outputs": [],
   "source": [
    "# SECOND ORDER\n",
    "fig, axs = plt.subplots(nrows=len(comparisons2), ncols=1, figsize=(12,4*len(comparisons2)))\n",
    "\n",
    "# fakedata\n",
    "fake_x = np.arange(-2,2,0.01)\n",
    "fake_y = np.array([np.exp(-1*x**2) for x in fake_x])\n",
    "\n",
    "linestyles = ('-','--','-.')\n",
    "colors = 'rgbm'\n",
    "\n",
    "for comparison, ax in zip(named_comparisons2, axs.flatten()):\n",
    "    ax.hold('on')\n",
    "    variable = {k: v for d in comparison for k,v in d.items() \n",
    "            if len(v) > 1}\n",
    "    constant = {k: v for d in comparison for k,v in d.items() \n",
    "                if len(v) == 1}\n",
    "    \n",
    "    vi = variable.items()\n",
    "    p2 = product(vi[0][1], vi[1][1])\n",
    "    for i,p in enumerate(p2):\n",
    "        ls = linestyles[ vi[1][1].index(p[1])]\n",
    "        color = colors[ vi[0][1].index(p[0])]\n",
    "        ax.plot(fake_x+i*3, fake_y, label='\\n+'.join(p), linestyle=ls, color=color)\n",
    "        \n",
    "    ax.legend().get_frame().set_alpha(0.8)\n",
    "    t = ['%s: %s' % (a,b[0]) for a,b in constant.items()]\n",
    "    ax.set_title('\\n'.join(t))\n",
    "    rng = ax.get_xlim()\n",
    "    ax.set_xlim(rng[0],(rng[1]-rng[0])*1.4+rng[0])\n",
    "fig.tight_layout()"
   ]
  },
  {
   "cell_type": "markdown",
   "metadata": {},
   "source": [
    "### plots of first order comparisons"
   ]
  },
  {
   "cell_type": "code",
   "execution_count": null,
   "metadata": {
    "collapsed": true
   },
   "outputs": [],
   "source": [
    "# FIRST ORDER\n",
    "fig, axs = plt.subplots(nrows=len(comparisons)/2, ncols=2, figsize=(14,2*len(comparisons)))\n",
    "\n",
    "# fakedata\n",
    "fake_x = np.arange(-2,2,0.01)\n",
    "fake_y = np.array([np.exp(-1*x**2) for x in fake_x])\n",
    "\n",
    "\n",
    "for comparison, ax in zip(named_comparisons, axs.flatten()):\n",
    "    ax.hold('on')\n",
    "    variable = {k: v for d in comparison for k,v in d.items() \n",
    "                if len(v) > 1}\n",
    "    constant = {k: v for d in comparison for k,v in d.items() \n",
    "                if len(v) == 1}\n",
    "    \n",
    "    for i,value in enumerate(variable.values()[0]):\n",
    "        ax.plot(fake_x+i*3, fake_y, label=value)\n",
    "    ax.legend().get_frame().set_alpha(0.8)\n",
    "    \n",
    "    t = ['%s: %s' % (a,b[0]) for a,b in constant.items()]\n",
    "    ax.set_title('\\n'.join(t))\n",
    "    rng = ax.get_xlim()\n",
    "    ax.set_xlim(rng[0],(rng[1]-rng[0])*1.4+rng[0])\n",
    "fig.tight_layout()"
   ]
  },
  {
   "cell_type": "code",
   "execution_count": 84,
   "metadata": {
    "collapsed": false
   },
   "outputs": [
    {
     "data": {
      "application/javascript": [
       "IPython.load_extensions('codefolding/main');"
      ],
      "text/plain": [
       "<IPython.core.display.Javascript object>"
      ]
     },
     "metadata": {},
     "output_type": "display_data"
    }
   ],
   "source": [
    "%%javascript\n",
    "IPython.load_extensions('codefolding/main');"
   ]
  }
 ],
 "metadata": {
  "kernelspec": {
   "display_name": "Python 2",
   "language": "python",
   "name": "python2"
  }
 },
 "nbformat": 4,
 "nbformat_minor": 0
}
